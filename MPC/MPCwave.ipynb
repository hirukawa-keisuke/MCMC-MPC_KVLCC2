{
 "cells": [
  {
   "cell_type": "code",
   "execution_count": 1,
   "metadata": {},
   "outputs": [],
   "source": [
    "using JuMP\n",
    "using Ipopt\n",
    "using CSV, DataFrames, ProgressMeter, Distributions"
   ]
  },
  {
   "cell_type": "code",
   "execution_count": 2,
   "metadata": {},
   "outputs": [],
   "source": [
    "using Interpolations"
   ]
  },
  {
   "cell_type": "code",
   "execution_count": 3,
   "metadata": {},
   "outputs": [
    {
     "data": {
      "text/plain": [
       "T_P (generic function with 1 method)"
      ]
     },
     "execution_count": 3,
     "metadata": {},
     "output_type": "execute_result"
    }
   ],
   "source": [
    "# 船体に働く流体力\n",
    "function X_H(u, v, r)\n",
    "    U = sqrt(u^2 + (v - r * x_G)^2)\n",
    "    β = asin(-(v - r * x_G) / U)\n",
    "    r_dash = r * L_pp / U\n",
    "    v_dash = v / U\n",
    "    return 0.5 * ρ * L_pp * d * U^2 * X_H_dash(v_dash, r_dash)\n",
    "end\n",
    "\n",
    "function Y_H(u, v, r)\n",
    "    U = sqrt(u^2 + (v - r * x_G)^2)\n",
    "    β = asin(-(v - r * x_G) / U)\n",
    "    r_dash = r * L_pp / U\n",
    "    v_dash = v / U\n",
    "    return 0.5 * ρ * L_pp * d * U^2 * Y_H_dash(v_dash, r_dash)\n",
    "end\n",
    "\n",
    "function N_H(u, v, r)\n",
    "    U = sqrt(u^2 + (v - r * x_G)^2)\n",
    "    β = asin(-(v - r * x_G) / U)\n",
    "    r_dash = r * L_pp / U\n",
    "    v_dash = v / U\n",
    "    return 0.5 * ρ * L_pp^2 * d * U^2 * N_H_dash(v_dash, r_dash)\n",
    "end\n",
    "\n",
    "# 船体に働く流体力(無次元)\n",
    "function X_H_dash(β, r_dash)\n",
    "    return -R_0_dash + X_vv_dash*β^2 + X_vr_dash*β*r_dash + X_rr_dash*r_dash^2 + X_vvvv_dash*β^4\n",
    "end\n",
    "\n",
    "function Y_H_dash(β, r_dash)\n",
    "    return Y_v_dash*β + Y_r_dash*r_dash + Y_vvr_dash*β^2*r_dash + Y_vrr_dash*β*r_dash^2 + Y_vvv_dash*β^3 + Y_rrr_dash*r_dash^3\n",
    "end\n",
    "\n",
    "function N_H_dash(β, r_dash)\n",
    "    return N_v_dash*β + N_r_dash*r_dash + N_vvr_dash*β^2*r_dash + N_vrr_dash*β*r_dash^2 + N_vvv_dash*β^3 + N_rrr_dash*r_dash^3\n",
    "end\n",
    "\n",
    "# 舵に働く力\n",
    "function X_R(u, v, r, δ, n_p)\n",
    "    return -(1 - t_R) * F_N(u, v, r, δ, n_p) * sin(δ)\n",
    "end\n",
    "\n",
    "function Y_R(u, v, r, δ, n_p)\n",
    "    return -(1 + a_H) * F_N(u, v, r, δ, n_p) * cos(δ)\n",
    "end\n",
    "\n",
    "function N_R(u, v, r, δ, n_p)\n",
    "    return -(x_R + a_H * x_H) * F_N(u, v, r, δ, n_p) * cos(δ)\n",
    "end\n",
    "\n",
    "function F_N(u, v, r, δ, n_p)\n",
    "    U = sqrt(u^2 + (v - r * x_G)^2)\n",
    "    β = asin(-(v - r * x_G) / U)\n",
    "    r_dash = r * L_pp / U\n",
    "    w_P = w_P0 * exp(-4.0 * (β - x_P * r_dash)^2)\n",
    "    u_p = (1 - w_P) * u\n",
    "    u_R = ϵ * u_p * sqrt(η * (1 + κ * (sqrt(1 + (8 * K_T(u, v, r, n_p)) / (π * J(u, v, r, n_p)^2)) - 1))^2 + (1 - η))\n",
    "    β_R = β - l_R * r_dash\n",
    "    if β_R < 0.0\n",
    "        γ_R = γ_R_minus\n",
    "    else\n",
    "        γ_R = γ_R_plus\n",
    "    end \n",
    "    v_R = U * γ_R * (β - l_r_dash * r_dash)\n",
    "    α_R = δ - atan(v_R, u_R)\n",
    "    U_R = sqrt(u_R^2 + v_R^2)\n",
    "    return 0.5 * ρ * A_R * U_R^2 * f_α * sin(α_R)\n",
    "end\n",
    "\n",
    "# プロペラに働く力\n",
    "function X_P(u, v, r, δ, n_p)\n",
    "    return (1 - t_P) * T_P(u, v, r, n_p)\n",
    "end\n",
    "\n",
    "function K_T(u, v, r, n_p)\n",
    "    return k_0 + k_1 * J(u, v, r, n_p) + k_2 * J(u, v, r, n_p)^2\n",
    "end\n",
    "\n",
    "function J(u, v, r, n_p)\n",
    "    U = sqrt(u^2 + (v - r * x_G)^2)\n",
    "    β = atan(-v, u)\n",
    "    r_dash = r * L_pp / U\n",
    "    w_P = w_P0 * exp(-4.0 * (β - x_P * r_dash)^2)\n",
    "    return u * (1 - w_P) / (n_p * D_p)\n",
    "end\n",
    "\n",
    "function T_P(u, v, r, n_p)\n",
    "    return K_T(u, v, r, n_p) * ρ * n_p^2 * D_p^4\n",
    "end"
   ]
  },
  {
   "cell_type": "code",
   "execution_count": 4,
   "metadata": {},
   "outputs": [
    {
     "data": {
      "text/plain": [
       "-0.11"
      ]
     },
     "execution_count": 4,
     "metadata": {},
     "output_type": "execute_result"
    }
   ],
   "source": [
    "# パラメータを定義\n",
    "const ρ = 1025.0\n",
    "const L_pp = 3.50\n",
    "const B = 0.57  \n",
    "const d = 0.16  \n",
    "const nabla = 0.7407 * L_pp * B * d \n",
    "const x_G = 0.0112 \n",
    "const D_p = 0.03373 * L_pp \n",
    "const m = nabla * ρ \n",
    "const I_zG = m * ((0.25 * L_pp)^2)\n",
    "const A_R = 0.0189  \n",
    "const η = 0.8023  \n",
    "const m_x = 0.0475 * m \n",
    "const m_y = 0.6739 * m \n",
    "const J_z = 0.0306 * m * (L_pp^2) \n",
    "const f_α = 2.634 \n",
    "const ϵ = 1.345\n",
    "const t_R = 0.084\n",
    "const a_H = 0.054\n",
    "const x_H = -0.388 * L_pp\n",
    "const γ_R_minus = 0.225 \n",
    "const γ_R_plus = 0.574 \n",
    "const l_r_dash = -0.641 \n",
    "const l_R = -0.641  \n",
    "const κ = 0.482\n",
    "const t_P = 0.180 \n",
    "const w_P0 = 0.40  \n",
    "const x_P = -0.490 \n",
    "const x_R = -0.500 * L_pp\n",
    "\n",
    "const k_0 = 0.3516\n",
    "const k_1 = -0.3624\n",
    "const k_2 = -0.1100"
   ]
  },
  {
   "cell_type": "code",
   "execution_count": 5,
   "metadata": {},
   "outputs": [
    {
     "data": {
      "text/plain": [
       "-0.0196"
      ]
     },
     "execution_count": 5,
     "metadata": {},
     "output_type": "execute_result"
    }
   ],
   "source": [
    "R_0_dash = 0.020\n",
    "X_vv_dash = -0.0799\n",
    "X_vr_dash = 0.1016\n",
    "X_rr_dash = -0.0176\n",
    "X_vvvv_dash = 0.5704\n",
    "Y_v_dash = -0.3711\n",
    "Y_r_dash = 0.0720\n",
    "Y_vvv_dash = -1.0535\n",
    "Y_vvr_dash = 0.207\n",
    "Y_vrr_dash = -0.2556\n",
    "Y_rrr_dash = 0.0220\n",
    "N_v_dash = -0.1097\n",
    "N_r_dash = -0.0527\n",
    "N_vvv_dash = -0.0533\n",
    "N_vvr_dash = -0.2863\n",
    "N_vrr_dash = -0.0206\n",
    "N_rrr_dash = -0.0196"
   ]
  },
  {
   "cell_type": "code",
   "execution_count": 6,
   "metadata": {},
   "outputs": [
    {
     "data": {
      "text/plain": [
       "X_wind (generic function with 1 method)"
      ]
     },
     "execution_count": 6,
     "metadata": {},
     "output_type": "execute_result"
    }
   ],
   "source": [
    "function X_wind(u, v, ψ)\n",
    "    ρ_air = 1.225\n",
    "    \n",
    "    # 相対風速の計算\n",
    "    u_A = -U_W * cos(Ψ_W) - u * cos(ψ) + v * sin(ψ)\n",
    "    v_A = U_W * sin(Ψ_W) - u * sin(ψ) - v * cos(ψ)\n",
    "    \n",
    "    # 風速の計算\n",
    "    if U_W == 0.0\n",
    "        U_A = 0.0\n",
    "    else\n",
    "        U_A = sqrt(u_A^2 + v_A^2)\n",
    "    end\n",
    "    \n",
    "    # 相対風向の計算\n",
    "    Ψ_A = ψ - Ψ_W\n",
    "    Ψ_A = mod(Ψ_A, 2 * π)\n",
    "    \n",
    "    # 風圧力の計算\n",
    "    return ρ_air * A_F * C_X(Ψ_A) / 2 * U_A^2\n",
    "end"
   ]
  },
  {
   "cell_type": "code",
   "execution_count": 7,
   "metadata": {},
   "outputs": [
    {
     "data": {
      "text/plain": [
       "Y_wind (generic function with 1 method)"
      ]
     },
     "execution_count": 7,
     "metadata": {},
     "output_type": "execute_result"
    }
   ],
   "source": [
    "function Y_wind(u, v, ψ)\n",
    "    ρ_air = 1.225\n",
    "    \n",
    "    # 相対風速の計算\n",
    "    u_A = -U_W * cos(Ψ_W) - u * cos(ψ) + v * sin(ψ)\n",
    "    v_A = U_W * sin(Ψ_W) - u * sin(ψ) - v * cos(ψ)\n",
    "    \n",
    "    # 風速の計算\n",
    "    if U_W == 0.0\n",
    "        U_A = 0.0\n",
    "    else\n",
    "        U_A = sqrt(u_A^2 + v_A^2)\n",
    "    end\n",
    "    \n",
    "    # 相対風向の計算\n",
    "    Ψ_A = ψ - Ψ_W\n",
    "    Ψ_A = mod(Ψ_A, 2 * π)\n",
    "   \n",
    "    # 風圧力の計算\n",
    "    return ρ_air * A_L * C_Y(Ψ_A) / 2 * U_A^2\n",
    "end"
   ]
  },
  {
   "cell_type": "code",
   "execution_count": 8,
   "metadata": {},
   "outputs": [
    {
     "data": {
      "text/plain": [
       "N_wind (generic function with 1 method)"
      ]
     },
     "execution_count": 8,
     "metadata": {},
     "output_type": "execute_result"
    }
   ],
   "source": [
    "function N_wind(u, v, ψ)\n",
    "    ρ_air = 1.225\n",
    "    \n",
    "    # 相対風速の計算\n",
    "    u_A = -U_W * cos(Ψ_W) - u * cos(ψ) + v * sin(ψ)\n",
    "    v_A = U_W * sin(Ψ_W) - u * sin(ψ) - v * cos(ψ)\n",
    "    \n",
    "    # 風速の計算\n",
    "    if U_W == 0.0\n",
    "        U_A = 0.0\n",
    "    else\n",
    "        U_A = sqrt(u_A^2 + v_A^2)\n",
    "    end\n",
    "    \n",
    "    # 相対風向の計算\n",
    "    Ψ_A = ψ - Ψ_W\n",
    "    Ψ_A = mod(Ψ_A, 2 * π)\n",
    "       \n",
    "    # 風圧力の計算\n",
    "    return ρ_air * A_L * L_pp * C_N(Ψ_A) / 2 * U_A^2\n",
    "end"
   ]
  },
  {
   "cell_type": "code",
   "execution_count": null,
   "metadata": {},
   "outputs": [
    {
     "data": {
      "text/plain": [
       "mpc (generic function with 1 method)"
      ]
     },
     "execution_count": 9,
     "metadata": {},
     "output_type": "execute_result"
    }
   ],
   "source": [
    "function mpc(f_x_t::Vector{Float64}, u1_t::Float64, u2_t::Float64, u3_t::Float64, f_obs::DataFrame ,t::Int, N::Int)\n",
    "    global R_0_dash, X_vv_dash, X_vr_dash, X_rr_dash, X_vvvv_dash\n",
    "    global Y_v_dash, Y_r_dash, Y_vvv_dash, Y_vvr_dash, Y_vrr_dash, Y_rrr_dash\n",
    "    global N_v_dash, N_r_dash, N_vvv_dash, N_vvr_dash, N_vrr_dash, N_rrr_dash\n",
    "\n",
    "    mcmc = CSV.read(\"./observation/MCMC_L2_20deg.csv\", DataFrame)\n",
    "    # モデル作成\n",
    "    model = Model(Ipopt.Optimizer) # Ipoptを使用\n",
    "    set_silent(model) # 計算の進行状況を非表示\n",
    "    L_f = 1.0 # センサー位置(船首)\n",
    "    L_t = 1.0 # センサー位置(船尾)\n",
    "    Q = 10000.0 # 座標誤差への重み\n",
    "    R1 = 10.0 # 制御量変化(X_F)への重み\n",
    "    R2 = 10.0# 制御量変化(Y_F)への重み\n",
    "    R3 = 1.0# 制御量変化(N_F)への重み\n",
    "    δ_ref =  20 * pi / 180.0 # [rad]\n",
    "    n_p_ref = 21.21824 # [rps]\n",
    "\n",
    "    # 方程式を登録\n",
    "    register(model, :X_H, 3, X_H; autodiff = true)\n",
    "    register(model, :Y_H, 3, Y_H; autodiff = true)\n",
    "    register(model, :N_H, 3, N_H; autodiff = true)\n",
    "    register(model, :X_H_dash, 2, X_H_dash; autodiff = true)\n",
    "    register(model, :Y_H_dash, 2, Y_H_dash; autodiff = true)\n",
    "    register(model, :N_H_dash, 2, N_H_dash; autodiff = true)\n",
    "    register(model, :X_R, 5, X_R; autodiff = true)\n",
    "    register(model, :Y_R, 5, Y_R; autodiff = true)\n",
    "    register(model, :N_R, 5, N_R; autodiff = true)\n",
    "    register(model, :F_N, 5, F_N; autodiff = true)\n",
    "    register(model, :X_P, 5, X_P; autodiff = true)\n",
    "    register(model, :K_T, 4, K_T; autodiff = true)\n",
    "    register(model, :J, 4, J; autodiff = true)\n",
    "    register(model, :T_P, 4, T_P; autodiff = true)\n",
    "    register(model, :X_wind, 3, X_wind; autodiff = true)\n",
    "    register(model, :Y_wind, 3, Y_wind; autodiff = true)\n",
    "    register(model, :N_wind, 3, N_wind; autodiff = true)    \n",
    "\n",
    "    # 使用する変数を設定\n",
    "    x = @variable(model, [t:t+N+1, 1:13]) # 操作量 x\n",
    "    u1 = @variable(model, [t:t+N, 1:1]) # 制御量 u1\n",
    "    u2 = @variable(model, [t:t+N, 1:1]) # 制御量 u2\n",
    "    u3 = @variable(model, [t:t+N, 1:1])\n",
    "\n",
    "    # 制御量の制約条件\n",
    "    @constraint(model, -10.0 .<= u1[t:t+N, 1:1] .<= 10.0) \n",
    "    @constraint(model, -10.0 .<= u2[t:t+N, 1:1] .<= 10.0)\n",
    "    @constraint(model, -10.0 .<= u3[t:t+N, 1:1] .<= 10.0)\n",
    "\n",
    "    # 操作量の箱を作成\n",
    "    for k in t:t+N+1\n",
    "        set_start_value.(x[k, 1], f_x_t[1])\n",
    "        set_start_value.(x[k, 2], f_x_t[2])\n",
    "        set_start_value.(x[k, 3], f_x_t[3])\n",
    "        set_start_value.(x[k, 4], f_x_t[4])\n",
    "        set_start_value.(x[k, 5], f_x_t[5])\n",
    "        set_start_value.(x[k, 6], f_x_t[6])\n",
    "        set_start_value.(x[k, 7], f_x_t[7])\n",
    "        set_start_value.(x[k, 8], f_x_t[8])\n",
    "        set_start_value.(x[k, 9], f_x_t[9])\n",
    "        set_start_value.(x[k, 10], f_x_t[10])\n",
    "        set_start_value.(x[k, 11], f_x_t[11])\n",
    "        set_start_value.(x[k, 12], f_x_t[12])\n",
    "        set_start_value.(x[k, 13], f_x_t[13])   \n",
    "    end\n",
    "    \n",
    "    # 初期状態(t)での変数xの設定\n",
    "    for i in 1:13\n",
    "        @constraint(model, x[t, i] == f_x_t[i])\n",
    "    end\n",
    "\n",
    "    # MMGを用いた制約\n",
    "    for k in t:t+N\n",
    "        random_num = rand(500:1000)\n",
    "        R_0_dash = mcmc[random_num,4]\n",
    "        X_vv_dash = mcmc[random_num,5]\n",
    "        X_vr_dash = mcmc[random_num,6]\n",
    "        X_rr_dash = mcmc[random_num,7]\n",
    "        X_vvvv_dash = mcmc[random_num,8]\n",
    "        Y_v_dash = mcmc[random_num,9]\n",
    "        Y_r_dash = mcmc[random_num,10]\n",
    "        Y_vvv_dash = mcmc[random_num,11]\n",
    "        Y_vvr_dash = mcmc[random_num,12]\n",
    "        Y_vrr_dash = mcmc[random_num,13]\n",
    "        Y_rrr_dash = mcmc[random_num,14]\n",
    "        N_v_dash = mcmc[random_num,15]\n",
    "        N_r_dash = mcmc[random_num,16]\n",
    "        N_vvv_dash = mcmc[random_num,17]\n",
    "        N_vvr_dash = mcmc[random_num,18]\n",
    "        N_vrr_dash = mcmc[random_num,19]\n",
    "        N_rrr_dash = mcmc[random_num,20]\n",
    "        @NLconstraint(model, x[k+1,1] == x[k,1] + dt * ((X_H(x[k,1], x[k,2], x[k,3]) + X_R(x[k,1], x[k,2], x[k,3], δ_ref, n_p_ref) + X_P(x[k,1], x[k,2], x[k,3], δ_ref, n_p_ref) +  X_wind(x[k,1], x[k,2], x[k,6]) + u1[k,1] + (m + m_y) * x[k,2] * x[k,3]) / (m + m_x)))\n",
    "        @NLconstraint(model, x[k+1,2] == x[k,2] + dt * ((Y_H(x[k,1], x[k,2], x[k,3]) + Y_R(x[k,1], x[k,2], x[k,3], δ_ref, n_p_ref) +  Y_wind(x[k,1], x[k,2], x[k,6]) + u2[k,1] - (m + m_x) * x[k,1] * x[k,3]) / (m + m_y)))\n",
    "        @NLconstraint(model, x[k+1,3] == x[k,3] + dt * ((N_H(x[k,1], x[k,2], x[k,3]) + N_R(x[k,1], x[k,2], x[k,3], δ_ref, n_p_ref) +  N_wind(x[k,1], x[k,2], x[k,6]) + u3[k,1]) / (I_zG + J_z)))\n",
    "        @NLconstraint(model, x[k+1,4] == x[k,4] + dt * (x[k,1] * cos(x[k,6]) - x[k,2] * sin(x[k,6])))\n",
    "        @NLconstraint(model, x[k+1,5] == x[k,5] + dt * (x[k,1] * sin(x[k,6]) + x[k,2] * cos(x[k,6])))\n",
    "        @NLconstraint(model, x[k+1,6] == x[k,6] + dt * (x[k,3]))\n",
    "        @NLconstraint(model, x[k+1,7] == x[k+1,4] + L_f * cos(x[k+1,6]))\n",
    "        @NLconstraint(model, x[k+1,8] == x[k+1,5] + L_f * sin(x[k+1,6]))\n",
    "        @NLconstraint(model, x[k+1,9] == x[k+1,4] + L_t * cos(x[k+1,6] + pi))\n",
    "        @NLconstraint(model, x[k+1,10] == x[k+1,5] + L_t * sin(x[k+1,6] + pi))\n",
    "        # @NLconstraint(model, x[k+1,11] == x[k,11] + dt * (u1[k,1] - x[k,11]))\n",
    "        # @NLconstraint(model, x[k+1,12] == x[k,12] + dt * (u2[k,1] - x[k,12]))\n",
    "        # @NLconstraint(model, x[k+1,13] == x[k,13] + dt * (u3[k,1] - x[k,13]))\n",
    "    end\n",
    "\n",
    "    #評価関数の設定\n",
    "    @NLobjective(model, Min, sum((Q*((x[k,7]-f_obs[k,10])^2 +(x[k,8]-f_obs[k,11])^2 +(x[k,9]-f_obs[k,12])^2 +(x[k,10]-f_obs[k,13])^2 + (x[t+N+1,7]-f_obs[t+N+1,10])^2 +(x[t+N+1,8]-f_obs[t+N+1,11])^2 +(x[t+N+1,9]-f_obs[t+N+1,12])^2 +(x[t+N+1,10]-f_obs[t+N+1,13])^2) + R1*((u1[k,1]-u1[k-1,1])^2) + R2*((u2[k,1]-u2[k-1,1])^2) + R3*((u3[k,1]-u3[k-1,1])^2)) for k in t+1:t+N))\n",
    "    \n",
    "    # 最適化の実行\n",
    "    optimize!(model)\n",
    "    \n",
    "    # 次点の操作量x(t+1)とそれに用いた制御量u(t)の値を返す\n",
    "    return value.(x[t+1,1:13]), value.(u1[t,1]), value.(u2[t,1]), value.(u3[t,1]) # 最適化後の入力x・制御量u\n",
    "end"
   ]
  },
  {
   "cell_type": "code",
   "execution_count": 10,
   "metadata": {},
   "outputs": [
    {
     "data": {
      "text/plain": [
       "run_mpc (generic function with 1 method)"
      ]
     },
     "execution_count": 10,
     "metadata": {},
     "output_type": "execute_result"
    }
   ],
   "source": [
    "function run_mpc(duration::Int, dt::Float64, q::Int)\n",
    "    global X_wind, Y_wind, N_wind\n",
    "    global R_0_dash, X_vv_dash, X_vr_dash, X_rr_dash, X_vvvv_dash\n",
    "    global Y_v_dash, Y_r_dash, Y_vvv_dash, Y_vvr_dash, Y_vrr_dash, Y_rrr_dash\n",
    "    global N_v_dash, N_r_dash, N_vvv_dash, N_vvr_dash, N_vrr_dash, N_rrr_dash\n",
    "    #観測データ\n",
    "    obs = CSV.read(\"./observation/obs_EF.csv\", DataFrame)\n",
    "        \n",
    "    # 初期値設定\n",
    "    x_0 = Vector(Float64[0.8, 0.0, 0.0, 0.0, 0.0, 0.0, 1.0, 0.0, -1.0, 0.0, 0.0, 0.0, 0.0, 0.0, 0.0, 0.0])\n",
    "    u1_0 = 0.0\n",
    "    u2_0 = 0.0\n",
    "    u3_0 = 0.0\n",
    "\n",
    "    # データフレーム\n",
    "    cols = Int(duration/dt) + 1\n",
    "    df_x = DataFrame(\n",
    "        time = collect(0:dt:duration),\n",
    "        u = zeros(cols),\n",
    "        v = zeros(cols),\n",
    "        r = zeros(cols),\n",
    "        x = zeros(cols),\n",
    "        y = zeros(cols),\n",
    "        ψ = zeros(cols),\n",
    "        x1 = zeros(cols),\n",
    "        y1 = zeros(cols),\n",
    "        x2 = zeros(cols),\n",
    "        y2 = zeros(cols),\n",
    "        X_F_m = zeros(cols),\n",
    "        Y_F_m = zeros(cols),\n",
    "        N_F_m = zeros(cols),\n",
    "        X_F = zeros(cols),\n",
    "        Y_F = zeros(cols),\n",
    "        N_F = zeros(cols),\n",
    "        X_wind = zeros(cols),\n",
    "        Y_wind = zeros(cols),\n",
    "        N_wind = zeros(cols),\n",
    "        U_W = zeros(cols),\n",
    "        Ψ_W = zeros(cols)\n",
    "    )\n",
    "\n",
    "    #初期値をデータフレームへ\n",
    "    df_x[1, 2:14] .= x_0[1:13]\n",
    "    df_x[1, 15:17] .= [u1_0, u2_0, u3_0]\n",
    "    df_x[1, 18:20] .=x_0[14:16]\n",
    "    df_x[1, 21:22] .=[U_W, Ψ_W]\n",
    "    # MPCの実行\n",
    "    @showprogress for t in 1:Int(duration/dt)\n",
    "        #MPCの結果\n",
    "        x_val, u1_val, u2_val, u3_val = mpc(x_0, u1_0, u2_0, u3_0, obs, t, N)\n",
    "        #結果をデータフレームへ\n",
    "        df_x[t+1, 2:14] .= x_val\n",
    "        df_x[t+1, 15:17] .= [u1_val, u2_val, u3_val]\n",
    "        x_wind = X_wind(x_val[1], x_val[2], x_val[6])\n",
    "        y_wind = Y_wind(x_val[1], x_val[2], x_val[6])\n",
    "        n_wind = N_wind(x_val[1], x_val[2], x_val[6])\n",
    "        df_x[t+1, 18:20] .= [x_wind, y_wind, n_wind]\n",
    "        df_x[t+1, 21:22] .= [U_W, Ψ_W]\n",
    "        \n",
    "        #次のMPCに用いる初期値へ設定\n",
    "        x_0 = Vector(x_val) \n",
    "        u1_0 = u1_val\n",
    "        u2_0 = u2_val\n",
    "        u3_0 = u3_val\n",
    "    end\n",
    "\n",
    "    # 結果書き出し\n",
    "    CSV.write(\"./results/MPC_result$(q).csv\", df_x)\n",
    "end"
   ]
  },
  {
   "cell_type": "code",
   "execution_count": null,
   "metadata": {},
   "outputs": [
    {
     "name": "stderr",
     "output_type": "stream",
     "text": [
      "\u001b[32mProgress:   1%|▍                                        |  ETA: 0:19:16\u001b[39m"
     ]
    },
    {
     "name": "stdout",
     "output_type": "stream",
     "text": [
      "\n",
      "******************************************************************************\n",
      "This program contains Ipopt, a library for large-scale nonlinear optimization.\n",
      " Ipopt is released as open source code under the Eclipse Public License (EPL).\n",
      "         For more information visit https://github.com/coin-or/Ipopt\n",
      "******************************************************************************\n",
      "\n"
     ]
    },
    {
     "name": "stderr",
     "output_type": "stream",
     "text": [
      "\u001b[32mProgress:   5%|██                                       |  ETA: 0:09:05\u001b[39m"
     ]
    }
   ],
   "source": [
    "N = 30 # 予測ホライゾン\n",
    "duration = 50 # 全体の計算時間\n",
    "dt = 0.25 # 刻み幅\n",
    "whole_step = Int(duration/dt) \n",
    "\n",
    "df = CSV.read(\"./observation/suzaku_windcoef.csv\", DataFrame)\n",
    "df = df[completecases(df), :]\n",
    "Ψ_A_vec = deg2rad.(df[!,\"psi_A[deg]\"])\n",
    "C_X_vec = df[!,\"CX\"]\n",
    "C_Y_vec = df[!,\"CY\"]\n",
    "C_N_vec = df[!,\"CN\"]\n",
    "C_X_line = LinearInterpolation(Ψ_A_vec, C_X_vec)\n",
    "C_Y_line = LinearInterpolation(Ψ_A_vec, C_Y_vec)\n",
    "C_N_line = LinearInterpolation(Ψ_A_vec, C_N_vec)\n",
    "function C_X(Ψ_A)\n",
    "    return C_X_line(Ψ_A)\n",
    "end\n",
    "\n",
    "function C_Y(Ψ_A)\n",
    "    return C_Y_line(Ψ_A)\n",
    "end\n",
    "\n",
    "function C_N(Ψ_A)\n",
    "    return C_N_line(Ψ_A)\n",
    "end\n",
    "\n",
    "A_F = 0.183313 * L_pp * B \n",
    "A_L = 3.143061 * L_pp * d\n",
    "\n",
    "U_W = 2.0\n",
    "Ψ_W = 0.5 * pi\n",
    "\n",
    "# U_W_list = U_W .* ones(Float64, 1:whole_step)\n",
    "# Ψ_W_list = Ψ_W .* ones(Float64, 1:whole_step)\n",
    "\n",
    "for q in 1:100\n",
    "    run_mpc(duration, dt, q)\n",
    "end"
   ]
  }
 ],
 "metadata": {
  "kernelspec": {
   "display_name": "Julia 1.10.3",
   "language": "julia",
   "name": "julia-1.10"
  },
  "language_info": {
   "file_extension": ".jl",
   "mimetype": "application/julia",
   "name": "julia",
   "version": "1.10.3"
  }
 },
 "nbformat": 4,
 "nbformat_minor": 2
}
