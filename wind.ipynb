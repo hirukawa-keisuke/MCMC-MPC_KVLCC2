{
 "cells": [
  {
   "cell_type": "code",
   "execution_count": 344,
   "metadata": {},
   "outputs": [],
   "source": [
    "using JuMP\n",
    "using Ipopt\n",
    "using CSV, DataFrames\n",
    "using PyPlot, LaTeXStrings, PyCall\n",
    "using Interpolations, Distributions, Dierckx"
   ]
  },
  {
   "cell_type": "code",
   "execution_count": 345,
   "metadata": {},
   "outputs": [
    {
     "data": {
      "text/plain": [
       "1.7940999999999998"
      ]
     },
     "metadata": {},
     "output_type": "display_data"
    }
   ],
   "source": [
    "ρ_air = 1.225\n",
    "L_pp = 7.0\n",
    "B = 1.27  # 船幅[m]\n",
    "d = 0.4\n",
    "D = 0.6563 # 深さ[m]\n",
    "A_OD = 0.65 # デッキ上の構造物の側面投影面積[m^2]\n",
    "H_BR = 0.85 # 喫水からブリッジ主要構造物の最高位[m]\n",
    "H_C = 0.235 # 喫水から側面積中心までの高さ[m]\n",
    "C = 0.0 # 船体中心から側面積中心までの前後方向座標(船首方向を正)[m]\n",
    "\n",
    "A_OD = A_OD # デッキ上の構造物の側面投影面積[m^2]\n",
    "A_F = (D - d) * B  # 船体の正面投影面積[m^2]\n",
    "A_L = (D - d) * L_pp"
   ]
  },
  {
   "cell_type": "code",
   "execution_count": 346,
   "metadata": {},
   "outputs": [
    {
     "data": {
      "text/plain": [
       "approx_CN (generic function with 1 method)"
      ]
     },
     "metadata": {},
     "output_type": "display_data"
    }
   ],
   "source": [
    "function wind_force_and_moment_coefficients(\n",
    "    ψ_A,\n",
    "    L_pp,\n",
    "    B,\n",
    "    A_OD,\n",
    "    A_F,\n",
    "    A_L,\n",
    "    H_BR,\n",
    "    H_C,\n",
    "    C,\n",
    ")\n",
    "    #C_LF1の場合で調整\n",
    "    C_CF = 0.404 + 0.368 * A_F / (B * H_BR) + 0.902 * H_BR / L_pp\n",
    "\n",
    "    if deg2rad(0) <= ψ_A <= deg2rad(90)\n",
    "        C_LF = -0.992 + 0.507 * A_L / (L_pp * B) + 1.162 * C / L_pp\n",
    "        C_XLI = 0.458 + 3.245 * A_L / (L_pp * H_BR) - 2.313 * A_F / (B * H_BR)\n",
    "        C_ALF = -0.585 - 0.906 * A_OD / A_L + 3.239 * B / L_pp\n",
    "        C_YLI = pi * A_L / L_pp^2 + 0.116 + 3.345 * A_F / (L_pp * B)\n",
    "\n",
    "        C_X = C_LF * cos(ψ_A) + C_XLI * (sin(ψ_A) - sin(ψ_A) * cos(ψ_A)^2 / 2) * sin(ψ_A) * cos(ψ_A) + C_ALF * sin(ψ_A) * cos(ψ_A)^3\n",
    "        C_Y = C_CF * sin(ψ_A)^2 + C_YLI * (cos(ψ_A) + sin(ψ_A)^2 * cos(ψ_A) / 2) * sin(ψ_A) * cos(ψ_A)\n",
    "        C_N = C_Y * (0.297 * C / L_pp - 0.149 * (ψ_A - deg2rad(90)))\n",
    "\n",
    "    elseif deg2rad(90) < ψ_A <= deg2rad(180)\n",
    "        C_LF =\n",
    "            0.018 - 5.091 * B / L_pp + 10.367 * H_C / L_pp - 3.011 * A_OD / L_pp^2 -\n",
    "            0.341 * A_F / B^2\n",
    "        C_XLI =\n",
    "            -1.901 + 12.727 * A_L / (L_pp * H_BR) + 24.407 * A_F / A_L -\n",
    "            40.310 * B / L_pp - 0.341 * A_F / (B * H_BR)\n",
    "        C_ALF = -0.314 - 1.117 * A_OD / A_L\n",
    "        C_YLI = pi * A_L / L_pp^2 + 0.446 + 2.192 * A_F / L_pp^2\n",
    "\n",
    "        C_X = C_LF * cos(ψ_A) + C_XLI * (sin(ψ_A) - sin(ψ_A) * cos(ψ_A)^2 / 2) * sin(ψ_A) * cos(ψ_A) + C_ALF * sin(ψ_A) * cos(ψ_A)^3\n",
    "        C_Y = C_CF * sin(ψ_A)^2 + C_YLI * (cos(ψ_A) + sin(ψ_A)^2 * cos(ψ_A) / 2) * sin(ψ_A) * cos(ψ_A)\n",
    "        C_N = C_Y * (0.297 * C / L_pp - 0.149 * (ψ_A - deg2rad(90)))\n",
    "\n",
    "    elseif deg2rad(180) < ψ_A <= deg2rad(270)\n",
    "        C_LF =\n",
    "            0.018 - 5.091 * B / L_pp + 10.367 * H_C / L_pp - 3.011 * A_OD / L_pp^2 -\n",
    "            0.341 * A_F / B^2\n",
    "        C_XLI =\n",
    "            -1.901 + 12.727 * A_L / (L_pp * H_BR) + 24.407 * A_F / A_L -\n",
    "            40.310 * B / L_pp - 0.341 * A_F / (B * H_BR)\n",
    "        C_ALF = -0.314 - 1.117 * A_OD / A_L\n",
    "        C_YLI = pi * A_L / L_pp^2 + 0.446 + 2.192 * A_F / L_pp^2\n",
    "        ψ_A = 2*pi - ψ_A\n",
    "        C_X = (C_LF * cos(ψ_A) + C_XLI * (sin(ψ_A) - sin(ψ_A) * cos(ψ_A)^2 / 2) * sin(ψ_A) * cos(ψ_A) + C_ALF * sin(ψ_A) * cos(ψ_A)^3)\n",
    "        C_Y = -(C_CF * sin(ψ_A)^2 + C_YLI * (cos(ψ_A) + sin(ψ_A)^2 * cos(ψ_A) / 2) * sin(ψ_A) * cos(ψ_A))\n",
    "        C_N = (C_Y * (0.297 * C / L_pp - 0.149 * (ψ_A - deg2rad(90))))\n",
    "    \n",
    "    elseif deg2rad(270) < ψ_A <= deg2rad(360)\n",
    "        C_LF = -0.992 + 0.507 * A_L / (L_pp * B) + 1.162 * C / L_pp\n",
    "        C_XLI = 0.458 + 3.245 * A_L / (L_pp * H_BR) - 2.313 * A_F / (B * H_BR)\n",
    "        C_ALF = -0.585 - 0.906 * A_OD / A_L + 3.239 * B / L_pp\n",
    "        C_YLI = pi * A_L / L_pp^2 + 0.116 + 3.345 * A_F / (L_pp * B)\n",
    "\n",
    "        ψ_A = 2*pi - ψ_A\n",
    "        C_X = (C_LF * cos(ψ_A) + C_XLI * (sin(ψ_A) - sin(ψ_A) * cos(ψ_A)^2 / 2) * sin(ψ_A) * cos(ψ_A) + C_ALF * sin(ψ_A) * cos(ψ_A)^3)\n",
    "        C_Y = -(C_CF * sin(ψ_A)^2 + C_YLI * (cos(ψ_A) + sin(ψ_A)^2 * cos(ψ_A) / 2) * sin(ψ_A) * cos(ψ_A))\n",
    "        C_N = (C_Y * (0.297 * C / L_pp - 0.149 * (ψ_A - deg2rad(90))))\n",
    "    end\n",
    "    \n",
    "    C_X, C_Y, C_N\n",
    "end\n",
    "\n",
    "ψ_A_vec = deg2rad.(collect(0:10:360))\n",
    "C_X_vec = Array{Float64}(undef, length(ψ_A_vec))\n",
    "C_Y_vec = Array{Float64}(undef, length(ψ_A_vec))\n",
    "C_N_vec = Array{Float64}(undef, length(ψ_A_vec))\n",
    "for (index, ψ_A) in enumerate(ψ_A_vec)\n",
    "    C_X, C_Y, C_N = wind_force_and_moment_coefficients(\n",
    "        ψ_A,\n",
    "        L_pp,\n",
    "        B,\n",
    "        A_OD,\n",
    "        A_F,\n",
    "        A_L,\n",
    "        H_BR,\n",
    "        H_C,\n",
    "        C,\n",
    "    )\n",
    "    C_X_vec[index] = C_X\n",
    "    C_Y_vec[index] = C_Y\n",
    "    C_N_vec[index] = C_N\n",
    "end\n",
    "spl_C_X = Spline1D(ψ_A_vec, C_X_vec)\n",
    "spl_C_Y = Spline1D(ψ_A_vec, C_Y_vec)\n",
    "spl_C_N = Spline1D(ψ_A_vec, C_N_vec)\n",
    "\n",
    "# function approx_CX(ψ)\n",
    "#     return spl_C_X(ψ)\n",
    "# end\n",
    "# function approx_CY(ψ)\n",
    "#     return spl_C_Y(ψ)\n",
    "# end\n",
    "# function approx_CN(ψ)\n",
    "#     return spl_C_N(ψ) \n",
    "# end\n",
    "\n",
    "ψ_A_discrete = collect(ψ_A_vec)\n",
    "C_X_discrete = collect(C_X_vec)\n",
    "C_Y_discrete = collect(C_Y_vec)\n",
    "C_N_discrete = collect(C_N_vec)\n",
    "\n",
    "function approx_CX(ψ)\n",
    "    index = findfirst(x -> x >= ψ, ψ_A_discrete)\n",
    "    return C_X_discrete[index]\n",
    "end\n",
    "function approx_CY(ψ)\n",
    "    index = findfirst(x -> x >= ψ, ψ_A_discrete)\n",
    "    return C_Y_discrete[index]\n",
    "end\n",
    "function approx_CN(ψ)\n",
    "    index = findfirst(x -> x >= ψ, ψ_A_discrete)\n",
    "    return C_N_discrete[index]\n",
    "end"
   ]
  },
  {
   "cell_type": "code",
   "execution_count": 347,
   "metadata": {},
   "outputs": [
    {
     "data": {
      "text/plain": [
       "wind (generic function with 1 method)"
      ]
     },
     "metadata": {},
     "output_type": "display_data"
    }
   ],
   "source": [
    "function wind(u, v, psi, X_F, Y_F, N_F)\n",
    "    model = Model(Ipopt.Optimizer)\n",
    "\n",
    "    register(model, :mod, 2, mod; autodiff = true)\n",
    "    register(model, :approx_CX, 1, approx_CX; autodiff = true)\n",
    "    register(model, :approx_CY, 1, approx_CY; autodiff = true)\n",
    "    register(model, :approx_CN, 1, approx_CN; autodiff = true)\n",
    "\n",
    "    @variable(model, 0.0 <= U_wind <= 20.0, start = 10.0)\n",
    "    @variable(model, 0.0*pi <= psi_wind <= 2.0*pi, start = pi)\n",
    "\n",
    "    @variable(model, u_A, start = u)\n",
    "    @variable(model, v_A, start = v)\n",
    "    @variable(model, U_A, start = sqrt((u)^2 + (v)^2))\n",
    "    @variable(model, ψ_A, start = psi)\n",
    "    @variable(model, w1, start = 0.0001)\n",
    "    @variable(model, w2, start = 0.0001)\n",
    "    @variable(model, w3, start = 0.0001)\n",
    "\n",
    "    @NLconstraint(model, u_A == u + U_wind * cos(psi_wind - psi))\n",
    "    @NLconstraint(model, v_A == v + U_wind * sin(psi_wind - psi))\n",
    "    @NLconstraint(model, U_A == sqrt(u_A^2 + v_A^2))\n",
    "    # @constraint(model, ψ_A == mod(atan(v_A, u_A), 2*pi))\n",
    "    @NLconstraint(model, ψ_A == -atan(v_A, u_A))\n",
    "    @NLconstraint(model, w1 == X_F - ρ_air * A_F * approx_CX(ψ_A) / 2 * U_A^2)\n",
    "    @NLconstraint(model, w2 == Y_F - ρ_air * A_L * approx_CY(ψ_A) / 2 * U_A^2)\n",
    "    @NLconstraint(model, w3 == N_F - ρ_air * A_L * L_pp * approx_CN(ψ_A) / 2 * U_A^2)\n",
    "\n",
    "    @NLobjective(model, Min, w1^2 + w2^2 + w3^2)\n",
    "\n",
    "    optimize!(model)\n",
    "\n",
    "    return value(U_wind), value(psi_wind), value(w1), value(w2), value(w3), value(ψ_A)\n",
    "end"
   ]
  },
  {
   "cell_type": "code",
   "execution_count": 348,
   "metadata": {},
   "outputs": [
    {
     "name": "stdout",
     "output_type": "stream",
     "text": [
      "1.4308672882191036\n",
      "This is Ipopt version 3.14.14, running with linear solver MUMPS 5.6.2.\n",
      "\n",
      "Number of nonzeros in equality constraint Jacobian...:       21\n",
      "Number of nonzeros in inequality constraint Jacobian.:        0\n",
      "Number of nonzeros in Lagrangian Hessian.............:        0\n",
      "\n",
      "Total number of variables............................:        9\n",
      "                     variables with only lower bounds:        0\n",
      "                variables with lower and upper bounds:        2\n",
      "                     variables with only upper bounds:        0\n",
      "Total number of equality constraints.................:        7\n",
      "Total number of inequality constraints...............:        0\n",
      "        inequality constraints with only lower bounds:        0\n",
      "   inequality constraints with lower and upper bounds:        0\n",
      "        inequality constraints with only upper bounds:        0\n",
      "\n",
      "iter    objective    inf_pr   inf_du lg(mu)  ||d||  lg(rg) alpha_du alpha_pr  ls\n",
      "   0  3.0000000e-08 4.95e+01 1.33e-04   0.0 0.00e+00    -  0.00e+00 0.00e+00   0\n",
      "   1  4.8293628e+00 4.63e+01 3.90e+00  -0.3 1.66e+01    -  7.30e-01 1.25e-01h  4\n",
      "   2  1.3383611e+03 3.41e+01 8.82e+01  -1.8 3.45e+01    -  8.47e-01 1.00e+00h  1\n",
      "   3  2.3664140e+03 6.50e+00 1.14e+01  -1.1 1.16e+01    -  1.00e+00 1.00e+00h  1\n",
      "   4  2.3597321e+03 1.41e+00 3.53e+00  -1.7 2.82e+00    -  1.00e+00 1.00e+00f  1\n",
      "   5  2.3554906e+03 5.48e-01 1.72e+00  -3.3 1.76e+00    -  1.00e+00 1.00e+00f  1\n",
      "   6  2.3553128e+03 9.63e-02 2.83e-01  -4.6 7.37e-01    -  1.00e+00 1.00e+00h  1\n",
      "   7  2.3552788e+03 1.64e-02 3.57e-02  -5.7 3.04e-01    -  1.00e+00 1.00e+00h  1\n",
      "   8  2.3552783e+03 4.62e-04 3.56e-03  -6.8 5.10e-02    -  1.00e+00 1.00e+00h  1\n",
      "   9  2.3552783e+03 1.57e-07 8.68e-06  -8.3 9.41e-04    -  1.00e+00 1.00e+00h  1\n",
      "iter    objective    inf_pr   inf_du lg(mu)  ||d||  lg(rg) alpha_du alpha_pr  ls\n",
      "  10  2.3552783e+03 1.28e-10 4.93e-07 -11.0 2.69e-05    -  1.00e+00 1.00e+00h  1\n",
      "  11  2.3552783e+03 4.72e-13 1.75e-12 -11.0 1.63e-06    -  1.00e+00 1.00e+00h  1\n",
      "\n",
      "Number of Iterations....: 11\n",
      "\n",
      "                                   (scaled)                 (unscaled)\n",
      "Objective...............:   2.3552782854006091e+03    2.3552782854006091e+03\n",
      "Dual infeasibility......:   1.7458750887565471e-12    1.7458750887565471e-12\n",
      "Constraint violation....:   4.7167597751677614e-13    4.7167597751677614e-13\n",
      "Variable bound violation:   0.0000000000000000e+00    0.0000000000000000e+00\n",
      "Complementarity.........:   1.0000000017075786e-11    1.0000000017075786e-11\n",
      "Overall NLP error.......:   1.0000000017075786e-11    1.0000000017075786e-11\n",
      "\n",
      "\n",
      "Number of objective function evaluations             = 16\n",
      "Number of objective gradient evaluations             = 12\n",
      "Number of equality constraint evaluations            = 16\n",
      "Number of inequality constraint evaluations          = 0\n",
      "Number of equality constraint Jacobian evaluations   = 12\n",
      "Number of inequality constraint Jacobian evaluations = 0\n",
      "Number of Lagrangian Hessian evaluations             = 0\n",
      "Total seconds in IPOPT                               = 0.013\n",
      "\n",
      "EXIT: Optimal Solution Found.\n"
     ]
    },
    {
     "data": {
      "text/plain": [
       "(3.499730630721904, 4.378300094984814, -2.601194761050289e-12, -48.04953859867125, -6.820566388168301, -2.7334204060357874)"
      ]
     },
     "metadata": {},
     "output_type": "display_data"
    }
   ],
   "source": [
    "data = CSV.read(\"/home/hirukawa/myenv/Lab/MCMC-MPC_KVLCC2/MPC/observation/obs_10deg_10ms_EF.csv\", DataFrame)\n",
    "dt = 100\n",
    "u = data[dt, \"u\"]\n",
    "v = data[dt, \"v\"]\n",
    "psi = data[dt, \"ψ\"]\n",
    "X_F = data[dt, \"X_wind\"]\n",
    "Y_F = data[dt, \"Y_wind\"]  \n",
    "N_F = data[dt, \"N_wind\"]\n",
    "println(u)\n",
    "a, b, c, d, e, f = wind(u, v, psi, X_F, Y_F, N_F)"
   ]
  },
  {
   "cell_type": "code",
   "execution_count": 349,
   "metadata": {},
   "outputs": [],
   "source": []
  },
  {
   "cell_type": "code",
   "execution_count": 350,
   "metadata": {},
   "outputs": [
    {
     "name": "stdout",
     "output_type": "stream",
     "text": [
      "U_wind = 3.499730630721904\n",
      "psi_wind = 4.378300094984814\n",
      "w1 = -2.601194761050289e-12\n",
      "w2 = -48.04953859867125\n",
      "w3 = -6.820566388168301\n",
      "U_A = -2.7334204060357874\n"
     ]
    }
   ],
   "source": [
    "println(\"U_wind = \", a)\n",
    "println(\"psi_wind = \", b)\n",
    "println(\"w1 = \", c)\n",
    "println(\"w2 = \", d)\n",
    "println(\"w3 = \", e)\n",
    "println(\"U_A = \", f)"
   ]
  }
 ],
 "metadata": {
  "kernelspec": {
   "display_name": "Julia 1.10.3",
   "language": "julia",
   "name": "julia-1.10"
  },
  "language_info": {
   "file_extension": ".jl",
   "mimetype": "application/julia",
   "name": "julia",
   "version": "1.10.3"
  }
 },
 "nbformat": 4,
 "nbformat_minor": 2
}
